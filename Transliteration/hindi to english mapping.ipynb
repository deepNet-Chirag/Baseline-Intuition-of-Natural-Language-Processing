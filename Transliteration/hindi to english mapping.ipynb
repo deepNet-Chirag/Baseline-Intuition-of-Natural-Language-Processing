{
 "cells": [
  {
   "cell_type": "code",
   "execution_count": 43,
   "id": "existing-amount",
   "metadata": {},
   "outputs": [],
   "source": [
    "import pandas as pd"
   ]
  },
  {
   "cell_type": "code",
   "execution_count": 44,
   "id": "illegal-twenty",
   "metadata": {},
   "outputs": [],
   "source": [
    "df = pd.read_excel(\"harvardkyoto.xlsx\")"
   ]
  },
  {
   "cell_type": "code",
   "execution_count": 45,
   "id": "subjective-hollywood",
   "metadata": {},
   "outputs": [
    {
     "data": {
      "text/html": [
       "<div>\n",
       "<style scoped>\n",
       "    .dataframe tbody tr th:only-of-type {\n",
       "        vertical-align: middle;\n",
       "    }\n",
       "\n",
       "    .dataframe tbody tr th {\n",
       "        vertical-align: top;\n",
       "    }\n",
       "\n",
       "    .dataframe thead th {\n",
       "        text-align: right;\n",
       "    }\n",
       "</style>\n",
       "<table border=\"1\" class=\"dataframe\">\n",
       "  <thead>\n",
       "    <tr style=\"text-align: right;\">\n",
       "      <th></th>\n",
       "      <th>Devanagari</th>\n",
       "      <th>Harvard-Kyoto</th>\n",
       "    </tr>\n",
       "  </thead>\n",
       "  <tbody>\n",
       "    <tr>\n",
       "      <th>0</th>\n",
       "      <td>क</td>\n",
       "      <td>ka</td>\n",
       "    </tr>\n",
       "    <tr>\n",
       "      <th>1</th>\n",
       "      <td>ख</td>\n",
       "      <td>kha</td>\n",
       "    </tr>\n",
       "    <tr>\n",
       "      <th>2</th>\n",
       "      <td>ग</td>\n",
       "      <td>ga</td>\n",
       "    </tr>\n",
       "    <tr>\n",
       "      <th>3</th>\n",
       "      <td>घ</td>\n",
       "      <td>gha</td>\n",
       "    </tr>\n",
       "    <tr>\n",
       "      <th>4</th>\n",
       "      <td>ङ</td>\n",
       "      <td>Ga</td>\n",
       "    </tr>\n",
       "  </tbody>\n",
       "</table>\n",
       "</div>"
      ],
      "text/plain": [
       "  Devanagari Harvard-Kyoto\n",
       "0          क            ka\n",
       "1          ख           kha\n",
       "2          ग            ga\n",
       "3          घ           gha\n",
       "4          ङ            Ga"
      ]
     },
     "execution_count": 45,
     "metadata": {},
     "output_type": "execute_result"
    }
   ],
   "source": [
    "df.head()"
   ]
  },
  {
   "cell_type": "code",
   "execution_count": 46,
   "id": "impressive-journey",
   "metadata": {},
   "outputs": [],
   "source": [
    "dict_df = {}\n",
    "\n",
    "for i,j in zip(df[\"Devanagari\"],df[\"Harvard-Kyoto\"]):\n",
    "    dict_df[i] = j"
   ]
  },
  {
   "cell_type": "code",
   "execution_count": 47,
   "id": "noticed-method",
   "metadata": {},
   "outputs": [
    {
     "data": {
      "text/plain": [
       "{'क': 'ka',\n",
       " 'ख': 'kha',\n",
       " 'ग': 'ga',\n",
       " 'घ': 'gha',\n",
       " 'ङ': 'Ga',\n",
       " 'च': 'ca',\n",
       " 'छ': 'cha',\n",
       " 'ज': 'ja',\n",
       " 'झ': 'jha',\n",
       " 'ञ': 'Ja',\n",
       " 'ट': 'Ta',\n",
       " 'ठ': 'Tha',\n",
       " 'ड': 'Da',\n",
       " 'ढ': 'Dha',\n",
       " 'ण': 'Na',\n",
       " 'त': 'ta',\n",
       " 'थ': 'tha',\n",
       " 'द': 'da',\n",
       " 'ध': 'dha',\n",
       " 'न': 'na',\n",
       " 'प': 'pa',\n",
       " 'फ': 'pha',\n",
       " 'ब': 'ba',\n",
       " 'भ': 'bha',\n",
       " 'म': 'ma',\n",
       " 'य': 'ya',\n",
       " 'र': 'ra',\n",
       " 'ल': 'la',\n",
       " 'व': 'va',\n",
       " 'श': 'za',\n",
       " 'ष': 'Sa',\n",
       " 'स': 'sa',\n",
       " 'ह': 'ha',\n",
       " 'अ': 'a',\n",
       " 'आ': 'A',\n",
       " 'इ': 'i',\n",
       " 'ई': 'I',\n",
       " 'उ': 'u',\n",
       " 'ऊ': 'U',\n",
       " 'ए': 'e',\n",
       " 'ऐ': 'ai',\n",
       " 'ओ': 'o',\n",
       " 'औ': 'au',\n",
       " 'ऋ': 'R',\n",
       " 'ॠ': 'RR',\n",
       " 'ऌ': 'lR',\n",
       " 'ॡ': 'lRR',\n",
       " 'अं': 'M',\n",
       " 'अः': 'H',\n",
       " 'ा': 'a',\n",
       " 'ि': 'i',\n",
       " 'ी': 'I',\n",
       " 'ु': 'u',\n",
       " 'ू': 'U',\n",
       " 'ृ': '.r',\n",
       " 'े': 'e',\n",
       " 'ै': 'ai',\n",
       " 'ो': 'o',\n",
       " 'ौ': 'au',\n",
       " ' ': ' '}"
      ]
     },
     "execution_count": 47,
     "metadata": {},
     "output_type": "execute_result"
    }
   ],
   "source": [
    "dict_df"
   ]
  },
  {
   "cell_type": "code",
   "execution_count": 59,
   "id": "consistent-hawaii",
   "metadata": {},
   "outputs": [
    {
     "data": {
      "text/plain": [
       "60"
      ]
     },
     "execution_count": 59,
     "metadata": {},
     "output_type": "execute_result"
    }
   ],
   "source": [
    "len(dict_df)"
   ]
  },
  {
   "cell_type": "code",
   "execution_count": 48,
   "id": "minor-queensland",
   "metadata": {},
   "outputs": [],
   "source": [
    "with open(\"story_hin.txt\",\"r\",encoding = \"utf-8\") as f:\n",
    "    content = f.read()"
   ]
  },
  {
   "cell_type": "code",
   "execution_count": 49,
   "id": "grave-restaurant",
   "metadata": {},
   "outputs": [
    {
     "name": "stdout",
     "output_type": "stream",
     "text": [
      "अकबर बिरबलनी साथे सांजे बागमां फरी रह्यां हतां  अकबरे अचानक बीरबलने पुछ्युं  सांभळ्युं छे के तु तारी पत्नीथी खुब ज डरे छे  तेणे धीरेथी कह्यु के  मात्र हुं ज नहि पण आपण राज्यनो दरेक व्यक्ति पोतानी पत्नीथी डरे छे  महाराजे  बिरबल सामे त्रांसी नजरे जोता कह्यु के  तु तारी नबळाईने संताडवा माटे बधा लोको पर आरोप न लगाव   अकबरे कह्यु  शुं तु तारी वातने साबित करी शके छे  बिरबले तुरंत ज हा पाडी दिधी   बीरबले बधा ज पुरूषोनी एक सभा बोलाववानो आदेश रजु कर्यो   एक नक्की करेला दिवसे शहेरना बधा ज पुरूषो त्यां आवी पहोच्यां  बीरबले बधाने पुछवानुं शरू कर्युं के शुं तेओ पोतनी पत्नीथी डरे छे  मोटा भागना लोकोए कबुल कर्युं के हा तेओ कोई ने कोई कारणने लीधे पोतानी पत्नीथी डरे छे  बिरबले ते बधा ज लोकोने हाथमां एक एक ईंडु पकडावी दिधुं अने बाजुमां बेसवा माटे कह्यु   आ जोईने बधाने खुब ज आश्चर्य थयुं  त्यारे एक नवयुवाने कह्यु के  पत्नीथी शुं डरवानुं ते तो पगना जोडा समान छे  अकबरने थोडीक राहत थई के  चालो कोई तो नीकळ्यु जेणे आटली वात कहेवानी हिंमत करी  बादशाहे खुश थईने तेने एक काळो घोडो ईनाममां आप्यो   घोडो लईने ते पोताना घरे पहोच्यो त्यारे तेनी पत्नीए हेरान थतां पुछ्युं  आ घोडो क्यांथी लाव्यां छो  नवयुवाने आखी वात पोतानी पत्नीने करी  पत्नीए कह्युं  तमे पण   घोडो लाववो ज हतो तो सफेद घोडो लाववो हतो ने   नवयुवाने कह्युं  सारू छे हुं हमणां ज जईने आ घोडो बदलावीने लावुं छुं   थोडी वार पछी ते दरबारमां पहोच्यो अने बीरबलने प्रार्थना करवा लाग्यो के मारी पत्नीने आ काळो घोडो नथी गमतो  तो मने सफेद घोडो आपो  बीरबले कह्युं  आ घोडो अंदर बांधी दे अने आ ईंडु लईने घरे जा\n"
     ]
    }
   ],
   "source": [
    "print(content)"
   ]
  },
  {
   "cell_type": "code",
   "execution_count": 54,
   "id": "fancy-supplement",
   "metadata": {},
   "outputs": [
    {
     "data": {
      "text/plain": [
       "['अ', 'क', 'ब', 'र', ' ']"
      ]
     },
     "execution_count": 54,
     "metadata": {},
     "output_type": "execute_result"
    }
   ],
   "source": [
    "char_hind = []\n",
    "for i in content:\n",
    "    for j in i:\n",
    "        char_hind.append(j)\n",
    "    \n",
    "char_hind[0:5]"
   ]
  },
  {
   "cell_type": "code",
   "execution_count": 55,
   "id": "historic-sheriff",
   "metadata": {},
   "outputs": [],
   "source": [
    "char_eng = pd.Series(char_hind).map(dict_df).astype(\"str\")"
   ]
  },
  {
   "cell_type": "code",
   "execution_count": 56,
   "id": "different-edition",
   "metadata": {},
   "outputs": [],
   "source": [
    "romanize = \"\".join(char_eng)"
   ]
  },
  {
   "cell_type": "code",
   "execution_count": 57,
   "id": "according-israeli",
   "metadata": {},
   "outputs": [
    {
     "data": {
      "text/plain": [
       "'akabara bairabalanai saathae saananjae baagamaanan pharai rahananyaanan hataanan  akabarae acaanaka bairabalanae pauchananyaunan  saananbhanannanyaunan chae kae tau taarai patanannaithai khauba ja darae chae  taenae dhairaethai kahananyau kae  maatananra haunan ja nahai pana apana raajananyanao daraeka vananyakanantai paotaanai patanannaithai darae chae  mahaaraajae  bairabala saamae tananraanansai najarae jaotaa kahananyau kae  tau taarai nabananainae sanantaadavaa maatae badhaa laokao para araopa na lagaava   akabarae kahananyau  zaunan tau taarai vaatanae saabaita karai zakae chae  bairabalae taurananta ja haa paadai daidhai   bairabalae badhaa ja paurausaonai eka sabhaa baolaavavaanao adaeza rajau karananyao   eka nakanankai karaelaa daivasae zahaeranaa badhaa ja paurausao tananyaanan avai pahaocananyaanan  bairabalae badhaanae pauchavaanaunan zarau karananyaunan kae zaunan taeo paotanai patanannaithai darae chae  maotaa bhaaganaa laokaoe kabaula karananyaunan kae haa taeo kaoi nae kaoi kaarananae laidhae paotaanai patanannaithai darae chae  bairabalae tae badhaa ja laokaonae haathamaanan eka eka inandau pakadaavai daidhaunan anae baajaumaanan baesavaa maatae kahananyau   a jaoinae badhaanae khauba ja azanancarananya thayaunan  tananyaarae eka navayauvaanae kahananyau kae  patanannaithai zaunan daravaanaunan tae tao paganaa jaodaa samaana chae  akabaranae thaodaika raahata thai kae  caalao kaoi tao naikanannanyau jaenae atalai vaata kahaevaanai hainanmata karai  baadazaahae khauza thainae taenae eka kaanano ghaodao inaamamaanan apananyao   ghaodao lainae tae paotaanaa gharae pahaocananyao tananyaarae taenai patanannaie haeraana thataanan pauchananyaunan  a ghaodao kananyaananthai laavananyaanan chao  navayauvaanae akhai vaata paotaanai patanannainae karai  patanannaie kahananyaunan  tamae pana   ghaodao laavavao ja hatao tao saphaeda ghaodao laavavao hatao nae   navayauvaanae kahananyaunan  saarau chae haunan hamanaanan ja jainae a ghaodao badalaavainae laavaunan chaunan   thaodai vaara pachai tae darabaaramaanan pahaocananyao anae bairabalanae pananraarananthanaa karavaa laagananyao kae maarai patanannainae a kaanano ghaodao nathai gamatao  tao manae saphaeda ghaodao apao  bairabalae kahananyaunan  a ghaodao anandara baanandhai dae anae a inandau lainae gharae jaa'"
      ]
     },
     "execution_count": 57,
     "metadata": {},
     "output_type": "execute_result"
    }
   ],
   "source": [
    "romanize.lower()"
   ]
  },
  {
   "cell_type": "code",
   "execution_count": null,
   "id": "southern-stationery",
   "metadata": {},
   "outputs": [],
   "source": []
  }
 ],
 "metadata": {
  "kernelspec": {
   "display_name": "Python 3",
   "language": "python",
   "name": "python3"
  },
  "language_info": {
   "codemirror_mode": {
    "name": "ipython",
    "version": 3
   },
   "file_extension": ".py",
   "mimetype": "text/x-python",
   "name": "python",
   "nbconvert_exporter": "python",
   "pygments_lexer": "ipython3",
   "version": "3.7.9"
  }
 },
 "nbformat": 4,
 "nbformat_minor": 5
}
