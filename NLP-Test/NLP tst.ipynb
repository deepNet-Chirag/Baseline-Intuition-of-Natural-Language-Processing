{
 "cells": [
  {
   "cell_type": "code",
   "execution_count": 123,
   "id": "adapted-nepal",
   "metadata": {},
   "outputs": [],
   "source": [
    "import numpy as np\n",
    "import pandas as pd\n",
    "from nltk import FreqDist"
   ]
  },
  {
   "cell_type": "code",
   "execution_count": 87,
   "id": "distinguished-supplier",
   "metadata": {},
   "outputs": [],
   "source": [
    "with open(\"Tagged_Hindi_Corpus.txt\",\"r\",encoding= \"utf-8\") as f:\n",
    "    content = f.read()"
   ]
  },
  {
   "cell_type": "code",
   "execution_count": 88,
   "id": "utility-facing",
   "metadata": {
    "scrolled": true
   },
   "outputs": [],
   "source": [
    "sentence = content.split(\"\\n\")"
   ]
  },
  {
   "cell_type": "code",
   "execution_count": 89,
   "id": "abandoned-equipment",
   "metadata": {},
   "outputs": [],
   "source": [
    "words = []\n",
    "\n",
    "for sent in sentence:\n",
    "    for word in sent.split(\" \"):\n",
    "        words.append(word)\n",
    "    \n",
    "words[0] = words[0][1:] "
   ]
  },
  {
   "cell_type": "code",
   "execution_count": 90,
   "id": "accepting-catholic",
   "metadata": {},
   "outputs": [
    {
     "name": "stdout",
     "output_type": "stream",
     "text": [
      "4984\n"
     ]
    }
   ],
   "source": [
    "only_words = []\n",
    "for w in words:\n",
    "    i = w.split(\"|\")[0]\n",
    "    \n",
    "    try:\n",
    "        if ord(i[0])>= 2304 and 2431 >= ord(i[0]):\n",
    "            only_words.append(i)\n",
    "    except:\n",
    "        pass\n",
    "\n",
    "print(len(only_words))"
   ]
  },
  {
   "cell_type": "markdown",
   "id": "thick-yesterday",
   "metadata": {},
   "source": [
    "Q-1<br>Find out how many total Hindi words are there in Corpus excluding punctuation marks."
   ]
  },
  {
   "cell_type": "code",
   "execution_count": 91,
   "id": "artistic-advisory",
   "metadata": {},
   "outputs": [
    {
     "data": {
      "text/plain": [
       "4984"
      ]
     },
     "execution_count": 91,
     "metadata": {},
     "output_type": "execute_result"
    }
   ],
   "source": [
    "len(only_words)"
   ]
  },
  {
   "cell_type": "markdown",
   "id": "qualified-coordinator",
   "metadata": {},
   "source": [
    "Q-2<br>Find out how many sentences are there in corpus."
   ]
  },
  {
   "cell_type": "code",
   "execution_count": 92,
   "id": "palestinian-czech",
   "metadata": {},
   "outputs": [
    {
     "data": {
      "text/plain": [
       "857"
      ]
     },
     "execution_count": 92,
     "metadata": {},
     "output_type": "execute_result"
    }
   ],
   "source": [
    "len(sentence)"
   ]
  },
  {
   "cell_type": "markdown",
   "id": "auburn-ballot",
   "metadata": {},
   "source": [
    "Q-3<br>Find out ratio of full characters Vs diacritic marks."
   ]
  },
  {
   "cell_type": "code",
   "execution_count": 133,
   "id": "convertible-minister",
   "metadata": {},
   "outputs": [],
   "source": [
    "character = 0\n",
    "diacritic = 0\n",
    "\n",
    "for i in content:\n",
    "    if (ord(i)>= 2304 and 2431 >= ord(i) ) or (ord(i)>= 65 and 90>= ord(i))  or (ord(i)>= 97 and 122>= ord(i) ) :\n",
    "        character += 1\n",
    "        \n",
    "    elif i == \" \":\n",
    "        continue\n",
    "    else:\n",
    "        diacritic += 1"
   ]
  },
  {
   "cell_type": "code",
   "execution_count": 134,
   "id": "useful-casino",
   "metadata": {},
   "outputs": [
    {
     "name": "stdout",
     "output_type": "stream",
     "text": [
      "84322\n",
      "48918\n",
      "Ratio 1.7237417719448873\n"
     ]
    }
   ],
   "source": [
    "print(character)\n",
    "print(diacritic)\n",
    "\n",
    "print(\"Ratio\",character/diacritic)"
   ]
  },
  {
   "cell_type": "markdown",
   "id": "fifty-inquiry",
   "metadata": {},
   "source": [
    "Q-4<br>\n",
    "Enlist and count unique words in corpus ?"
   ]
  },
  {
   "cell_type": "code",
   "execution_count": 95,
   "id": "horizontal-farmer",
   "metadata": {},
   "outputs": [
    {
     "data": {
      "text/plain": [
       "1778"
      ]
     },
     "execution_count": 95,
     "metadata": {},
     "output_type": "execute_result"
    }
   ],
   "source": [
    "len(np.unique(only_words))"
   ]
  },
  {
   "cell_type": "markdown",
   "id": "weighted-floor",
   "metadata": {},
   "source": [
    "Q-5<br>Enlist words with length greater than 12 characters"
   ]
  },
  {
   "cell_type": "code",
   "execution_count": 98,
   "id": "raising-telescope",
   "metadata": {},
   "outputs": [
    {
     "name": "stdout",
     "output_type": "stream",
     "text": [
      "8\n"
     ]
    },
    {
     "data": {
      "text/plain": [
       "['विद्यार्थियों',\n",
       " 'विश्वविद्यालय',\n",
       " 'नाइट्रोजनयुक्त',\n",
       " 'अंतर्राष्ट्रीय',\n",
       " 'सुपरिंटेंडेंट',\n",
       " 'प्रतिद्वंद्वी',\n",
       " 'उत्तराधिकारियों',\n",
       " 'अयोध्यावासियों']"
      ]
     },
     "execution_count": 98,
     "metadata": {},
     "output_type": "execute_result"
    }
   ],
   "source": [
    "word_12 = []\n",
    "\n",
    "for w in only_words:\n",
    "    if len(w) > 12:\n",
    "        word_12.append(w)\n",
    "\n",
    "print(len(word_12))\n",
    "word_12"
   ]
  },
  {
   "cell_type": "markdown",
   "id": "alien-immune",
   "metadata": {},
   "source": [
    "Q-6<br>How many Hindi words are there in each category ? (Nouns (NN…) and Verbs(V…) and Adjective(JJ…..)"
   ]
  },
  {
   "cell_type": "code",
   "execution_count": 117,
   "id": "owned-affect",
   "metadata": {},
   "outputs": [
    {
     "name": "stdout",
     "output_type": "stream",
     "text": [
      "Noun 1456\n",
      "Verb 1101\n",
      "Adjective 364\n"
     ]
    }
   ],
   "source": [
    "Noun = 0\n",
    "Verb = 0\n",
    "Adjective = 0\n",
    "passs = 0\n",
    "for w in words:\n",
    "    i = w.split(\"|\")\n",
    "    \n",
    "    try:\n",
    "        temp = i[2].split(\".\")[1]\n",
    "        if temp == 'n':\n",
    "            Noun += 1\n",
    "        elif temp == 'v':\n",
    "            Verb += 1\n",
    "        elif temp == 'adj':\n",
    "            Adjective += 1\n",
    "        else:\n",
    "            passs+=1\n",
    "    except:\n",
    "        \n",
    "        pass\n",
    "\n",
    "print(\"Noun\",Noun)\n",
    "print(\"Verb\",Verb)\n",
    "print(\"Adjective\",Adjective)"
   ]
  },
  {
   "cell_type": "markdown",
   "id": "mental-shaft",
   "metadata": {},
   "source": [
    "Q-7<br>How many words ends with ी and ु (Also display top 10)? And How many words starts with कु (enlist only top 10) ?"
   ]
  },
  {
   "cell_type": "code",
   "execution_count": 121,
   "id": "instant-formation",
   "metadata": {},
   "outputs": [],
   "source": [
    "thi = 0\n",
    "thu = 0\n",
    "\n",
    "for w in only_words:\n",
    "    if w[-1] == 'ी':\n",
    "        thi += 1\n",
    "        \n",
    "    if w[-1] ==  \"ु\":\n",
    "        thu += 1"
   ]
  },
  {
   "cell_type": "code",
   "execution_count": 122,
   "id": "treated-washer",
   "metadata": {},
   "outputs": [
    {
     "name": "stdout",
     "output_type": "stream",
     "text": [
      "thi 570\n",
      "thu 18\n"
     ]
    }
   ],
   "source": [
    "print(\"thi\",thi)\n",
    "print(\"thu\",thu)"
   ]
  },
  {
   "cell_type": "markdown",
   "id": "synthetic-building",
   "metadata": {},
   "source": [
    "Q-8<br>Find out 15 most frequent Hindi words from corpus ?"
   ]
  },
  {
   "cell_type": "code",
   "execution_count": 125,
   "id": "processed-johns",
   "metadata": {},
   "outputs": [
    {
     "data": {
      "text/plain": [
       "[('के', 218),\n",
       " ('है', 158),\n",
       " ('में', 149),\n",
       " ('की', 141),\n",
       " ('और', 106),\n",
       " ('से', 102),\n",
       " ('को', 87),\n",
       " ('हैं', 74),\n",
       " ('का', 61),\n",
       " ('कि', 52),\n",
       " ('पर', 48),\n",
       " ('भी', 46),\n",
       " ('यह', 39),\n",
       " ('था', 37),\n",
       " ('नहीं', 36)]"
      ]
     },
     "execution_count": 125,
     "metadata": {},
     "output_type": "execute_result"
    }
   ],
   "source": [
    "fd = FreqDist(only_words)\n",
    "fd.most_common(15)"
   ]
  },
  {
   "cell_type": "markdown",
   "id": "emerging-hierarchy",
   "metadata": {},
   "source": [
    "Q-9<br>Find out 5 most frequently occurring bigram and trigram (neighbourly) occurring words."
   ]
  },
  {
   "cell_type": "code",
   "execution_count": null,
   "id": "forced-depression",
   "metadata": {},
   "outputs": [],
   "source": []
  },
  {
   "cell_type": "markdown",
   "id": "elegant-victoria",
   "metadata": {},
   "source": [
    "Q-10<br>Create a separate file containing only Hindi text after removal of POS tags."
   ]
  },
  {
   "cell_type": "code",
   "execution_count": 146,
   "id": "neutral-belize",
   "metadata": {},
   "outputs": [
    {
     "name": "stdout",
     "output_type": "stream",
     "text": [
      "﻿कश्मीर|कश्मीर.0|NNP.n.m.sg.3.d\n",
      "के|का.का|PSP.psp.m.sg..o\n",
      "तत्कालीन|तत्कालीन.|JJ.adj.any.any..any\n",
      "गवर्नर|गवर्नर.0|NN.n.m.sg.3.d\n",
      "ने|ने.|PSP.psp....\n",
      "इस|इस.|DEM.pn.any.sg.3.o\n",
      "हस्तांतरण|हस्तांतरण.0|NN.n.m.sg.3.d\n",
      "का|का.का|PSP.psp.m.sg..d\n",
      "विरोध|विरोध.0|NN.n.m.sg.3.d\n",
      "किया|कर.या|VM.v.m.sg.any.\n",
      "था|था.था|VAUX.v.m.sg.any.\n",
      ",|,.|SYM.punc....\n",
      "लेकिन|लेकिन.|CC.avy....\n",
      "अंग्रेजों|अंग्रेज.0|NN.n.m.pl.3.o\n",
      "की|का.का|PSP.psp.f.sg..d\n",
      "सहायता|सहायता.0|NN.n.f.sg.3.d\n",
      "से|से.|PSP.v.any.any.any.\n",
      "उनकी|उनकी.|PRP.unk....\n",
      "आवाज|आवाज.0|NN.n.f.sg.3.d\n",
      "दबा|दबा.0|VM.v.any.any.any.\n",
      "दी|दे.या|VAUX.v.f.sg.any.\n",
      "गयी|गयी.|VAUX.unk....\n",
      ".|..|SYM.punc....\n"
     ]
    }
   ],
   "source": [
    "for sent in sentence:\n",
    "    for word in sent.split(\" \"):\n",
    "        print(word)\n",
    "    break"
   ]
  },
  {
   "cell_type": "code",
   "execution_count": null,
   "id": "alive-clothing",
   "metadata": {},
   "outputs": [],
   "source": []
  }
 ],
 "metadata": {
  "kernelspec": {
   "display_name": "Python 3",
   "language": "python",
   "name": "python3"
  },
  "language_info": {
   "codemirror_mode": {
    "name": "ipython",
    "version": 3
   },
   "file_extension": ".py",
   "mimetype": "text/x-python",
   "name": "python",
   "nbconvert_exporter": "python",
   "pygments_lexer": "ipython3",
   "version": "3.7.9"
  }
 },
 "nbformat": 4,
 "nbformat_minor": 5
}
