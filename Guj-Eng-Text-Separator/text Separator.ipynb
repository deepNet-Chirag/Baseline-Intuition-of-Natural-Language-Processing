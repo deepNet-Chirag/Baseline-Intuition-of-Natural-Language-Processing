{
 "cells": [
  {
   "cell_type": "code",
   "execution_count": 12,
   "metadata": {},
   "outputs": [],
   "source": [
    "import os\n",
    "import pandas as pd\n",
    "import numpy as np\n",
    "from nltk.tokenize import word_tokenize"
   ]
  },
  {
   "cell_type": "code",
   "execution_count": 2,
   "metadata": {},
   "outputs": [
    {
     "name": "stdout",
     "output_type": "stream",
     "text": [
      "﻿Once upon a time,અકબર બિરબલની સાથે  in a forest, there lived a monkey who resided on a jamoon (berry) tree, સાંજે બાગમાં ફરી રહ્યાં હતાં. અકબરે  which was on the banks of a river. In the same forest, અચાનક બીરબલને પુછ્યું, સાંભળ્યું છે કે  there lived a crocodile and his wife. તુ તારી પત્નીથી ખુબ જ ડરે છે. તેણે ધીરેથી કહ્યુ કે,  One day, the crocodile came to the banks of the river and rested under the tree. The kindhearted monkey offered him some fruits. The crocodile came back the next day for more fruits, as he loved them. As days passed by, the crocodile માત્ર હું જ નહિ પણ આપણ રાજ્યનો દરેક વ્યક્તિ પોતાની પત્નીથી ડરે છે. and the monkey became good friends.\n",
      "\n",
      "One day, the monkey sent some fruits મહારાજે, બિરબલ સામે ત્રાંસી નજરે જોતા કહ્યુ કે, for the crocodile’s wife. She ate the તુ તારી નબળાઈને fruits and liked them, but was jealous, as she didn’t like  સંતાડવા માટે બધા her husband spending time with the monkey. She told her  લોકો પર આરોપ ન લગાવ. husband, “If the fruits are so juicy, I wonder how sweet the monkey’s heart would be. Get me the heart of the monkey.” The crocodile was અકબરે કહ્યુ, not willing to kill his friend,  શું તુ તારી વાતને સાબિત but had no choice.\n",
      "\n",
      "He invited the કરી શકે છે? બિરબલે તુરંત monkey to his house for dinner જ હા પાડી દિધી. and that his wife would like to meet him. The monkey was happy, but couldn’t swim, so the crocodile took him on his back. The    બીરબલે બધા જ  crocodile was happy that he had tricked the monkey, however,  પુરૂષોની એક સભા while talking, he blurted out the real  બોલાવવાનો આદેશ રજુ કર્યો. reason for taking the monkey home. The clever monkey said, “You should have told me earlier, I left my heart on the tree. We must go back and get it.” The crocodile believed him and took him back to the tree. Thus, the clever monkey saved his life.\n",
      "\n",
      "  \n",
      "\n",
      "\n"
     ]
    }
   ],
   "source": [
    "#Here we after reading the text\n",
    "#we can see the mixture of english and gujarati text\n",
    "\n",
    "with open(\"story_eng_mix.txt\",\"r\",encoding = \"utf-8\") as f:\n",
    "    content = f.read()\n",
    "    \n",
    "print(content)"
   ]
  },
  {
   "cell_type": "code",
   "execution_count": 36,
   "metadata": {},
   "outputs": [],
   "source": [
    "#We can separate the code the using the logic of unicode character\n",
    "#Range of english character in unicode is 0-127\n",
    "#Range of gujarati character in unicode is 2688-2815\n",
    "\n",
    "english = [\"once\"]\n",
    "gujarati = []\n",
    "\n",
    "for word in word_tokenize(content):\n",
    "    num = ord(word[0])\n",
    "    \n",
    "    if num <= 127 and num >= 0:\n",
    "        if word == ',':\n",
    "            continue\n",
    "        english.append(word)\n",
    "        \n",
    "    elif num <= 2815 and num >= 2688:\n",
    "        gujarati.append(word)\n",
    "        \n",
    "    else:\n",
    "        pass\n"
   ]
  },
  {
   "cell_type": "code",
   "execution_count": 42,
   "metadata": {},
   "outputs": [
    {
     "name": "stdout",
     "output_type": "stream",
     "text": [
      "અકબર બિરબલની સાથે સાંજે બાગમાં ફરી રહ્યાં હતાં અકબરે અચાનક બીરબલને પુછ્યું સાંભળ્યું છે કે તુ તારી પત્નીથી ખુબ જ ડરે છે તેણે ધીરેથી કહ્યુ કે માત્ર હું જ નહિ પણ આપણ રાજ્યનો દરેક વ્યક્તિ પોતાની પત્નીથી ડરે છે મહારાજે બિરબલ સામે ત્રાંસી નજરે જોતા કહ્યુ કે તુ તારી નબળાઈને સંતાડવા માટે બધા લોકો પર આરોપ ન લગાવ અકબરે કહ્યુ શું તુ તારી વાતને સાબિત કરી શકે છે બિરબલે તુરંત જ હા પાડી દિધી બીરબલે બધા જ પુરૂષોની એક સભા બોલાવવાનો આદેશ રજુ કર્યો\n"
     ]
    }
   ],
   "source": [
    "#Now we just have to join the characters.,,\n",
    "\n",
    "guj = \" \".join(gujarati)\n",
    "print(guj)"
   ]
  },
  {
   "cell_type": "code",
   "execution_count": 49,
   "metadata": {},
   "outputs": [
    {
     "name": "stdout",
     "output_type": "stream",
     "text": [
      "once upon a time in a forest there lived a monkey who resided on a jamoon ( berry ) tree . which was on the banks of a river . In the same forest there lived a crocodile and his wife . . One day the crocodile came to the banks of the river and rested under the tree . The kindhearted monkey offered him some fruits . The crocodile came back the next day for more fruits as he loved them . As days passed by the crocodile . and the monkey became good friends . One day the monkey sent some fruits for the crocodile s wife . She ate the fruits and liked them but was jealous as she didn t like her husband spending time with the monkey . She told her . husband If the fruits are so juicy I wonder how sweet the monkey s heart would be . Get me the heart of the monkey. The crocodile was not willing to kill his friend but had no choice . He invited the ? monkey to his house for dinner . and that his wife would like to meet him . The monkey was happy but couldn t swim so the crocodile took him on his back . The crocodile was happy that he had tricked the monkey however while talking he blurted out the real . reason for taking the monkey home . The clever monkey said You should have told me earlier I left my heart on the tree . We must go back and get it. The crocodile believed him and took him back to the tree . Thus the clever monkey saved his life .\n"
     ]
    }
   ],
   "source": [
    "eng = \" \".join(english)\n",
    "print(eng)"
   ]
  },
  {
   "cell_type": "code",
   "execution_count": null,
   "metadata": {},
   "outputs": [],
   "source": []
  }
 ],
 "metadata": {
  "kernelspec": {
   "display_name": "Python 3",
   "language": "python",
   "name": "python3"
  },
  "language_info": {
   "codemirror_mode": {
    "name": "ipython",
    "version": 3
   },
   "file_extension": ".py",
   "mimetype": "text/x-python",
   "name": "python",
   "nbconvert_exporter": "python",
   "pygments_lexer": "ipython3",
   "version": "3.7.9"
  }
 },
 "nbformat": 4,
 "nbformat_minor": 4
}
